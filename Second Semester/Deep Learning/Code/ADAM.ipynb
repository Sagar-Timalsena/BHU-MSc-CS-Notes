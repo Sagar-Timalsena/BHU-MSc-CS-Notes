{
 "cells": [
  {
   "cell_type": "code",
   "execution_count": 1,
   "id": "65bbe1e4-55ac-4b67-8d04-82b0713f37c2",
   "metadata": {},
   "outputs": [],
   "source": [
    "import numpy as np"
   ]
  },
  {
   "cell_type": "code",
   "execution_count": 2,
   "id": "c409e5fb-a537-486b-8742-79d7f2e2c1bc",
   "metadata": {},
   "outputs": [],
   "source": [
    "# Activation and derivative functions\n",
    "def sigmoid(x):\n",
    "    return 1 / (1 + np.exp(-x))\n",
    "\n"
   ]
  },
  {
   "cell_type": "code",
   "execution_count": 3,
   "id": "81564e10-0e49-4265-bdce-0632eb534979",
   "metadata": {},
   "outputs": [],
   "source": [
    "def sigmoid_derivative(x):\n",
    "    return x * (1 - x)"
   ]
  },
  {
   "cell_type": "code",
   "execution_count": 4,
   "id": "89ce5a84-7b20-4213-9b1e-e0410337f1f6",
   "metadata": {},
   "outputs": [],
   "source": [
    "# XOR dataset\n",
    "X = np.array([[0, 0], [0, 1], [1, 0], [1, 1]])\n",
    "y = np.array([[0], [1], [1], [0]])"
   ]
  },
  {
   "cell_type": "code",
   "execution_count": 5,
   "id": "4b227762-7712-4272-abd6-409f8a93a5dc",
   "metadata": {},
   "outputs": [],
   "source": [
    "# Network architecture\n",
    "input_size = 2\n",
    "hidden_size = 2\n",
    "output_size = 1"
   ]
  },
  {
   "cell_type": "code",
   "execution_count": 6,
   "id": "118a8eeb-a754-4be3-9ba3-a6fc466adb3d",
   "metadata": {},
   "outputs": [],
   "source": [
    "# Weight initialization\n",
    "np.random.seed(42)\n",
    "w1 = np.random.randn(input_size, hidden_size)\n",
    "b1 = np.zeros((1, hidden_size))\n",
    "w2 = np.random.randn(hidden_size, hidden_size)\n",
    "b2 = np.zeros((1, hidden_size))\n",
    "w3 = np.random.randn(hidden_size, output_size)\n",
    "b3 = np.zeros((1, output_size))"
   ]
  },
  {
   "cell_type": "code",
   "execution_count": 7,
   "id": "0f87bc02-e473-4f43-a9cc-545fed1f261c",
   "metadata": {},
   "outputs": [],
   "source": [
    "# ADAM parameters\n",
    "alpha = 0.01  # Learning rate\n",
    "beta1 = 0.9\n",
    "beta2 = 0.999\n",
    "epsilon = 1e-8\n",
    "t = 0"
   ]
  },
  {
   "cell_type": "code",
   "execution_count": 8,
   "id": "e3b9c264-a425-4aed-bed6-74835612cc4a",
   "metadata": {},
   "outputs": [],
   "source": [
    "# Moment estimates\n",
    "m_w1, v_w1 = np.zeros_like(w1), np.zeros_like(w1)\n",
    "m_b1, v_b1 = np.zeros_like(b1), np.zeros_like(b1)\n",
    "m_w2, v_w2 = np.zeros_like(w2), np.zeros_like(w2)\n",
    "m_b2, v_b2 = np.zeros_like(b2), np.zeros_like(b2)\n",
    "m_w3, v_w3 = np.zeros_like(w3), np.zeros_like(w3)\n",
    "m_b3, v_b3 = np.zeros_like(b3), np.zeros_like(b3)"
   ]
  },
  {
   "cell_type": "code",
   "execution_count": 9,
   "id": "f8f88488-c6a5-41a3-ab9f-05cdaf0413a5",
   "metadata": {},
   "outputs": [],
   "source": [
    "# Training\n",
    "epochs = 10000"
   ]
  },
  {
   "cell_type": "code",
   "execution_count": 10,
   "id": "bc298351-c266-49a5-805f-8522cd517818",
   "metadata": {},
   "outputs": [
    {
     "name": "stdout",
     "output_type": "stream",
     "text": [
      "Epoch 0, Loss: 0.249912\n",
      "Epoch 1000, Loss: 0.126200\n",
      "Epoch 2000, Loss: 0.125290\n",
      "Epoch 3000, Loss: 0.125113\n",
      "Epoch 4000, Loss: 0.125054\n",
      "Epoch 5000, Loss: 0.125028\n",
      "Epoch 6000, Loss: 0.125015\n",
      "Epoch 7000, Loss: 0.125009\n",
      "Epoch 8000, Loss: 0.125005\n",
      "Epoch 9000, Loss: 0.125003\n"
     ]
    }
   ],
   "source": [
    "for epoch in range(epochs):\n",
    "    # Forward pass\n",
    "    z1 = np.dot(X, w1) + b1\n",
    "    a1 = sigmoid(z1)\n",
    "\n",
    "    z2 = np.dot(a1, w2) + b2\n",
    "    a2 = sigmoid(z2)\n",
    "\n",
    "    z3 = np.dot(a2, w3) + b3\n",
    "    y_pred = sigmoid(z3)\n",
    "\n",
    "    # Loss (Mean Squared Error)\n",
    "    loss = np.mean((y - y_pred) ** 2)\n",
    "\n",
    "    # Backpropagation\n",
    "    d_loss = (y_pred - y) * sigmoid_derivative(y_pred)\n",
    "    d_w3 = np.dot(a2.T, d_loss)\n",
    "    d_b3 = np.sum(d_loss, axis=0, keepdims=True)\n",
    "\n",
    "    d_a2 = np.dot(d_loss, w3.T) * sigmoid_derivative(a2)\n",
    "    d_w2 = np.dot(a1.T, d_a2)\n",
    "    d_b2 = np.sum(d_a2, axis=0, keepdims=True)\n",
    "\n",
    "    d_a1 = np.dot(d_a2, w2.T) * sigmoid_derivative(a1)\n",
    "    d_w1 = np.dot(X.T, d_a1)\n",
    "    d_b1 = np.sum(d_a1, axis=0, keepdims=True)\n",
    "\n",
    "    # ADAM optimization\n",
    "    t += 1\n",
    "    for param, d_param, m, v in [(w1, d_w1, m_w1, v_w1), (b1, d_b1, m_b1, v_b1),\n",
    "                                  (w2, d_w2, m_w2, v_w2), (b2, d_b2, m_b2, v_b2),\n",
    "                                  (w3, d_w3, m_w3, v_w3), (b3, d_b3, m_b3, v_b3)]:\n",
    "        m[:] = beta1 * m + (1 - beta1) * d_param\n",
    "        v[:] = beta2 * v + (1 - beta2) * (d_param ** 2)\n",
    "        m_hat = m / (1 - beta1 ** t)\n",
    "        v_hat = v / (1 - beta2 ** t)\n",
    "        param -= alpha * m_hat / (np.sqrt(v_hat) + epsilon)\n",
    "\n",
    "    # Print loss\n",
    "    if epoch % 1000 == 0:\n",
    "        print(f\"Epoch {epoch}, Loss: {loss:.6f}\")"
   ]
  },
  {
   "cell_type": "code",
   "execution_count": 11,
   "id": "097c3e09-f77f-49bc-9184-867e789c05b7",
   "metadata": {},
   "outputs": [
    {
     "name": "stdout",
     "output_type": "stream",
     "text": [
      "Final Predictions:\n",
      "[[0.00112505]\n",
      " [0.49999868]\n",
      " [0.99860007]\n",
      " [0.50000323]]\n"
     ]
    }
   ],
   "source": [
    "# Testing\n",
    "print(\"Final Predictions:\")\n",
    "print(y_pred)"
   ]
  },
  {
   "cell_type": "code",
   "execution_count": null,
   "id": "03b9dedf-4ecf-4c97-a481-0235b91187c6",
   "metadata": {},
   "outputs": [],
   "source": []
  }
 ],
 "metadata": {
  "kernelspec": {
   "display_name": "Python 3 (ipykernel)",
   "language": "python",
   "name": "python3"
  },
  "language_info": {
   "codemirror_mode": {
    "name": "ipython",
    "version": 3
   },
   "file_extension": ".py",
   "mimetype": "text/x-python",
   "name": "python",
   "nbconvert_exporter": "python",
   "pygments_lexer": "ipython3",
   "version": "3.9.12"
  }
 },
 "nbformat": 4,
 "nbformat_minor": 5
}
