{
 "cells": [
  {
   "cell_type": "markdown",
   "id": "1a05f31e",
   "metadata": {},
   "source": [
    "# For 10 Variables"
   ]
  },
  {
   "cell_type": "markdown",
   "id": "d298eaa0",
   "metadata": {},
   "source": [
    "# Using SDG as an optimizer"
   ]
  },
  {
   "cell_type": "code",
   "execution_count": 1,
   "id": "da32d357",
   "metadata": {},
   "outputs": [],
   "source": [
    "import numpy as np\n",
    "import matplotlib.pyplot as plt\n",
    "from sklearn.metrics import confusion_matrix, precision_recall_fscore_support, ConfusionMatrixDisplay"
   ]
  },
  {
   "cell_type": "code",
   "execution_count": 2,
   "id": "a83476d5",
   "metadata": {},
   "outputs": [],
   "source": [
    "# Sigmoid Activation Function\n",
    "def sigmoid(x):\n",
    "    return 1 / (1 + np.exp(-x))\n",
    "\n",
    "# Derivative of Sigmoid\n",
    "def sigmoid_derivative(x):\n",
    "    return x * (1 - x)"
   ]
  },
  {
   "cell_type": "code",
   "execution_count": 3,
   "id": "d137c54b",
   "metadata": {},
   "outputs": [],
   "source": [
    "# Generate XOR dataset with 10 variables (binary inputs)\n",
    "n_samples = 1000\n",
    "X = np.random.randint(0, 2, size=(n_samples, 10))\n",
    "y = np.logical_xor.reduce(X, axis=1).astype(int).reshape(-1, 1)"
   ]
  },
  {
   "cell_type": "code",
   "execution_count": 13,
   "id": "18c4cc06",
   "metadata": {},
   "outputs": [
    {
     "data": {
      "text/plain": [
       "array([[0, 1, 0, ..., 0, 0, 1],\n",
       "       [0, 1, 0, ..., 0, 1, 1],\n",
       "       [1, 1, 0, ..., 1, 0, 1],\n",
       "       ...,\n",
       "       [1, 0, 1, ..., 1, 0, 0],\n",
       "       [1, 1, 0, ..., 1, 1, 1],\n",
       "       [0, 0, 1, ..., 1, 0, 0]])"
      ]
     },
     "execution_count": 13,
     "metadata": {},
     "output_type": "execute_result"
    }
   ],
   "source": [
    "X"
   ]
  },
  {
   "cell_type": "code",
   "execution_count": 19,
   "id": "38b0886b",
   "metadata": {},
   "outputs": [],
   "source": [
    "# Initialize network parameters\n",
    "np.random.seed(42)\n",
    "input_dim = X.shape[1]\n",
    "hidden_dim = 3\n",
    "output_dim = 1\n",
    "learning_rate = 0.001"
   ]
  },
  {
   "cell_type": "code",
   "execution_count": 20,
   "id": "102ad5f2",
   "metadata": {},
   "outputs": [],
   "source": [
    "\n",
    "theta1 = np.random.rand(input_dim, hidden_dim)\n",
    "theta2 = np.random.rand(hidden_dim, hidden_dim)\n",
    "theta3 = np.random.rand(hidden_dim, output_dim)\n",
    "\n",
    "bias1 = np.zeros((1, hidden_dim))\n",
    "bias2 = np.zeros((1, hidden_dim))\n",
    "bias3 = np.zeros((1, output_dim))"
   ]
  },
  {
   "cell_type": "code",
   "execution_count": 21,
   "id": "42ed26d2",
   "metadata": {},
   "outputs": [],
   "source": [
    "losses = []"
   ]
  },
  {
   "cell_type": "code",
   "execution_count": 22,
   "id": "7db0db55",
   "metadata": {},
   "outputs": [],
   "source": [
    "epochs = 1000"
   ]
  },
  {
   "cell_type": "code",
   "execution_count": 23,
   "id": "fee054e9",
   "metadata": {},
   "outputs": [
    {
     "name": "stdout",
     "output_type": "stream",
     "text": [
      "Epoch 0, Loss: 0.7916\n",
      "Epoch 10, Loss: 0.6928\n",
      "Epoch 20, Loss: 0.6928\n",
      "Epoch 30, Loss: 0.6928\n",
      "Epoch 40, Loss: 0.6928\n",
      "Epoch 50, Loss: 0.6928\n",
      "Epoch 60, Loss: 0.6928\n",
      "Epoch 70, Loss: 0.6928\n",
      "Epoch 80, Loss: 0.6928\n",
      "Epoch 90, Loss: 0.6928\n",
      "Epoch 100, Loss: 0.6928\n",
      "Epoch 110, Loss: 0.6928\n",
      "Epoch 120, Loss: 0.6928\n",
      "Epoch 130, Loss: 0.6928\n",
      "Epoch 140, Loss: 0.6928\n",
      "Epoch 150, Loss: 0.6928\n",
      "Epoch 160, Loss: 0.6928\n",
      "Epoch 170, Loss: 0.6928\n",
      "Epoch 180, Loss: 0.6928\n",
      "Epoch 190, Loss: 0.6928\n",
      "Epoch 200, Loss: 0.6928\n",
      "Epoch 210, Loss: 0.6928\n",
      "Epoch 220, Loss: 0.6928\n",
      "Epoch 230, Loss: 0.6928\n",
      "Epoch 240, Loss: 0.6928\n",
      "Epoch 250, Loss: 0.6928\n",
      "Epoch 260, Loss: 0.6928\n",
      "Epoch 270, Loss: 0.6928\n",
      "Epoch 280, Loss: 0.6928\n",
      "Epoch 290, Loss: 0.6928\n",
      "Epoch 300, Loss: 0.6928\n",
      "Epoch 310, Loss: 0.6928\n",
      "Epoch 320, Loss: 0.6928\n",
      "Epoch 330, Loss: 0.6928\n",
      "Epoch 340, Loss: 0.6928\n",
      "Epoch 350, Loss: 0.6928\n",
      "Epoch 360, Loss: 0.6928\n",
      "Epoch 370, Loss: 0.6928\n",
      "Epoch 380, Loss: 0.6928\n",
      "Epoch 390, Loss: 0.6928\n",
      "Epoch 400, Loss: 0.6928\n",
      "Epoch 410, Loss: 0.6928\n",
      "Epoch 420, Loss: 0.6928\n",
      "Epoch 430, Loss: 0.6928\n",
      "Epoch 440, Loss: 0.6928\n",
      "Epoch 450, Loss: 0.6928\n",
      "Epoch 460, Loss: 0.6928\n",
      "Epoch 470, Loss: 0.6928\n",
      "Epoch 480, Loss: 0.6928\n",
      "Epoch 490, Loss: 0.6928\n",
      "Epoch 500, Loss: 0.6928\n",
      "Epoch 510, Loss: 0.6928\n",
      "Epoch 520, Loss: 0.6928\n",
      "Epoch 530, Loss: 0.6928\n",
      "Epoch 540, Loss: 0.6928\n",
      "Epoch 550, Loss: 0.6928\n",
      "Epoch 560, Loss: 0.6928\n",
      "Epoch 570, Loss: 0.6928\n",
      "Epoch 580, Loss: 0.6928\n",
      "Epoch 590, Loss: 0.6928\n",
      "Epoch 600, Loss: 0.6928\n",
      "Epoch 610, Loss: 0.6928\n",
      "Epoch 620, Loss: 0.6928\n",
      "Epoch 630, Loss: 0.6928\n",
      "Epoch 640, Loss: 0.6928\n",
      "Epoch 650, Loss: 0.6928\n",
      "Epoch 660, Loss: 0.6928\n",
      "Epoch 670, Loss: 0.6928\n",
      "Epoch 680, Loss: 0.6928\n",
      "Epoch 690, Loss: 0.6928\n",
      "Epoch 700, Loss: 0.6928\n",
      "Epoch 710, Loss: 0.6928\n",
      "Epoch 720, Loss: 0.6928\n",
      "Epoch 730, Loss: 0.6928\n",
      "Epoch 740, Loss: 0.6928\n",
      "Epoch 750, Loss: 0.6928\n",
      "Epoch 760, Loss: 0.6928\n",
      "Epoch 770, Loss: 0.6928\n",
      "Epoch 780, Loss: 0.6928\n",
      "Epoch 790, Loss: 0.6928\n",
      "Epoch 800, Loss: 0.6928\n",
      "Epoch 810, Loss: 0.6928\n",
      "Epoch 820, Loss: 0.6928\n",
      "Epoch 830, Loss: 0.6928\n",
      "Epoch 840, Loss: 0.6928\n",
      "Epoch 850, Loss: 0.6927\n",
      "Epoch 860, Loss: 0.6927\n",
      "Epoch 870, Loss: 0.6927\n",
      "Epoch 880, Loss: 0.6927\n",
      "Epoch 890, Loss: 0.6927\n",
      "Epoch 900, Loss: 0.6927\n",
      "Epoch 910, Loss: 0.6927\n",
      "Epoch 920, Loss: 0.6927\n",
      "Epoch 930, Loss: 0.6927\n",
      "Epoch 940, Loss: 0.6927\n",
      "Epoch 950, Loss: 0.6927\n",
      "Epoch 960, Loss: 0.6927\n",
      "Epoch 970, Loss: 0.6927\n",
      "Epoch 980, Loss: 0.6927\n",
      "Epoch 990, Loss: 0.6927\n"
     ]
    }
   ],
   "source": [
    "for epoch in range(epochs):\n",
    "    # Forward propagation\n",
    "    z1 = np.dot(X, theta1) + bias1\n",
    "    a1 = sigmoid(z1)\n",
    "    \n",
    "    z2 = np.dot(a1, theta2) + bias2\n",
    "    a2 = sigmoid(z2)\n",
    "    \n",
    "    z3 = np.dot(a2, theta3) + bias3\n",
    "    a3 = sigmoid(z3)\n",
    "    \n",
    "    # Compute loss (cross-entropy)\n",
    "    loss = -np.mean(y * np.log(a3 + 1e-9) + (1 - y) * np.log(1 - a3 + 1e-9))\n",
    "    losses.append(loss)\n",
    "    \n",
    "    # Backpropagation\n",
    "    error3 = a3 - y\n",
    "    d_theta3 = np.dot(a2.T, error3)\n",
    "    d_bias3 = np.sum(error3, axis=0, keepdims=True)\n",
    "    \n",
    "    error2 = np.dot(error3, theta3.T) * sigmoid_derivative(a2)\n",
    "    d_theta2 = np.dot(a1.T, error2)\n",
    "    d_bias2 = np.sum(error2, axis=0, keepdims=True)\n",
    "    \n",
    "    error1 = np.dot(error2, theta2.T) * sigmoid_derivative(a1)\n",
    "    d_theta1 = np.dot(X.T, error1)\n",
    "    d_bias1 = np.sum(error1, axis=0, keepdims=True)\n",
    "    \n",
    "    # Update weights and biases (SGD)\n",
    "    theta1 -= learning_rate * d_theta1\n",
    "    bias1 -= learning_rate * d_bias1\n",
    "    theta2 -= learning_rate * d_theta2\n",
    "    bias2 -= learning_rate * d_bias2\n",
    "    theta3 -= learning_rate * d_theta3\n",
    "    bias3 -= learning_rate * d_bias3\n",
    "    \n",
    "    # Print loss every 100 epochs\n",
    "    if epoch % 10 == 0:\n",
    "        print(f\"Epoch {epoch}, Loss: {loss:.4f}\")"
   ]
  },
  {
   "cell_type": "code",
   "execution_count": 24,
   "id": "629182cb",
   "metadata": {},
   "outputs": [
    {
     "data": {
      "image/png": "[encoded data removed]",
      "text/plain": [
       "<Figure size 640x480 with 1 Axes>"
      ]
     },
     "metadata": {},
     "output_type": "display_data"
    }
   ],
   "source": [
    "# Plot convergence plot\n",
    "plt.plot(losses)\n",
    "plt.xlabel(\"Epochs\")\n",
    "plt.ylabel(\"Loss\")\n",
    "plt.title(\"Loss Convergence\")\n",
    "plt.show()"
   ]
  },
  {
   "cell_type": "code",
   "execution_count": 25,
   "id": "230b478f",
   "metadata": {},
   "outputs": [],
   "source": [
    "# Predictions\n",
    "y_pred = (a3 > 0.5).astype(int)"
   ]
  },
  {
   "cell_type": "code",
   "execution_count": 26,
   "id": "1cdba95f",
   "metadata": {},
   "outputs": [
    {
     "data": {
      "image/png": "[encoded data removed]",
      "text/plain": [
       "<Figure size 640x480 with 2 Axes>"
      ]
     },
     "metadata": {},
     "output_type": "display_data"
    }
   ],
   "source": [
    "# Confusion matrix\n",
    "cm = confusion_matrix(y, y_pred)\n",
    "disp = ConfusionMatrixDisplay(confusion_matrix=cm)\n",
    "disp.plot()\n",
    "plt.show()"
   ]
  },
  {
   "cell_type": "code",
   "execution_count": 27,
   "id": "e56704a2",
   "metadata": {},
   "outputs": [
    {
     "name": "stdout",
     "output_type": "stream",
     "text": [
      "Precision: 0.0000\n",
      "Recall: 0.0000\n",
      "F1 Score: 0.0000\n"
     ]
    },
    {
     "name": "stderr",
     "output_type": "stream",
     "text": [
      "/usr/lib/python3/dist-packages/sklearn/metrics/_classification.py:1509: UndefinedMetricWarning: Precision is ill-defined and being set to 0.0 due to no predicted samples. Use `zero_division` parameter to control this behavior.\n",
      "  _warn_prf(average, modifier, f\"{metric.capitalize()} is\", len(result))\n"
     ]
    }
   ],
   "source": [
    "# Precision, Recall, F1 Score\n",
    "precision, recall, f1, _ = precision_recall_fscore_support(y, y_pred, average='binary')\n",
    "print(f\"Precision: {precision:.4f}\")\n",
    "print(f\"Recall: {recall:.4f}\")\n",
    "print(f\"F1 Score: {f1:.4f}\")"
   ]
  },
  {
   "cell_type": "code",
   "execution_count": null,
   "id": "af876b6d",
   "metadata": {},
   "outputs": [],
   "source": []
  },
  {
   "cell_type": "code",
   "execution_count": null,
   "id": "06112fae",
   "metadata": {},
   "outputs": [],
   "source": []
  }
 ],
 "metadata": {
  "kernelspec": {
   "display_name": "Python 3 (ipykernel)",
   "language": "python",
   "name": "python3"
  },
  "language_info": {
   "codemirror_mode": {
    "name": "ipython",
    "version": 3
   },
   "file_extension": ".py",
   "mimetype": "text/x-python",
   "name": "python",
   "nbconvert_exporter": "python",
   "pygments_lexer": "ipython3",
   "version": "3.12.3"
  }
 },
 "nbformat": 4,
 "nbformat_minor": 5
}
