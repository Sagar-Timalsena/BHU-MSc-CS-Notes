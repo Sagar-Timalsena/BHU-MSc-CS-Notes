{
 "cells": [
  {
   "cell_type": "code",
   "execution_count": 1,
   "id": "bd6c8da5",
   "metadata": {},
   "outputs": [],
   "source": [
    "import numpy as np"
   ]
  },
  {
   "cell_type": "code",
   "execution_count": 2,
   "id": "f30c9403",
   "metadata": {},
   "outputs": [],
   "source": [
    "# Sigmoid activation function and its derivative\n",
    "def sigmoid(x):\n",
    "    return 1 / (1 + np.exp(-x))\n",
    "\n",
    "def sigmoid_derivative(x):\n",
    "    return x * (1 - x)  # derivative of sigmoid"
   ]
  },
  {
   "cell_type": "code",
   "execution_count": 3,
   "id": "64e87993",
   "metadata": {},
   "outputs": [],
   "source": [
    "\n",
    "# XOR dataset\n",
    "X = np.array([[0, 0],\n",
    "              [0, 1],\n",
    "              [1, 0],\n",
    "              [1, 1]])\n",
    "\n",
    "Y = np.array([[0], [1], [1], [0]])  # Expected output"
   ]
  },
  {
   "cell_type": "code",
   "execution_count": 4,
   "id": "1f44ff0a",
   "metadata": {},
   "outputs": [],
   "source": [
    "# Initialize weights and biases\n",
    "np.random.seed(42)\n",
    "input_size = 2\n",
    "hidden_size = 3\n",
    "output_size = 1\n",
    "\n",
    "W1 = np.random.randn(input_size, hidden_size)  # Weights for input to hidden layer 1\n",
    "b1 = np.random.randn(hidden_size)              # Bias for hidden layer 1\n",
    "\n",
    "W2 = np.random.randn(hidden_size, hidden_size) # Weights for hidden layer 1 to hidden layer 2\n",
    "b2 = np.random.randn(hidden_size)              # Bias for hidden layer 2\n",
    "\n",
    "W3 = np.random.randn(hidden_size, output_size) # Weights for hidden layer 2 to output\n",
    "b3 = np.random.randn(output_size)              # Bias for output layer\n"
   ]
  },
  {
   "cell_type": "code",
   "execution_count": 5,
   "id": "57a0aea1",
   "metadata": {},
   "outputs": [],
   "source": [
    "# Training parameters\n",
    "epochs = 10000\n",
    "learning_rate = 0.1"
   ]
  },
  {
   "cell_type": "code",
   "execution_count": 6,
   "id": "e6f0a4e0",
   "metadata": {},
   "outputs": [
    {
     "name": "stdout",
     "output_type": "stream",
     "text": [
      "Epoch 0, Loss: 0.3378\n",
      "Epoch 1000, Loss: 0.2493\n",
      "Epoch 2000, Loss: 0.2490\n",
      "Epoch 3000, Loss: 0.2486\n",
      "Epoch 4000, Loss: 0.2479\n",
      "Epoch 5000, Loss: 0.2467\n",
      "Epoch 6000, Loss: 0.2442\n",
      "Epoch 7000, Loss: 0.2372\n",
      "Epoch 8000, Loss: 0.2129\n",
      "Epoch 9000, Loss: 0.1532\n"
     ]
    }
   ],
   "source": [
    "# Training loop\n",
    "for epoch in range(epochs):\n",
    "    # Forward pass\n",
    "    Z1 = np.dot(X, W1) + b1\n",
    "    A1 = sigmoid(Z1)\n",
    "\n",
    "    Z2 = np.dot(A1, W2) + b2\n",
    "    A2 = sigmoid(Z2)\n",
    "\n",
    "    Z3 = np.dot(A2, W3) + b3\n",
    "    A3 = sigmoid(Z3)  # Final output\n",
    "\n",
    "    # Compute loss (mean squared error)\n",
    "    loss = np.mean((Y - A3) ** 2)\n",
    "\n",
    "    # Backpropagation\n",
    "    dA3 = 2 * (A3 - Y) / Y.size * sigmoid_derivative(A3)  # Gradient for output layer\n",
    "    dW3 = np.dot(A2.T, dA3)\n",
    "    db3 = np.sum(dA3, axis=0)\n",
    "\n",
    "    dA2 = np.dot(dA3, W3.T) * sigmoid_derivative(A2)\n",
    "    dW2 = np.dot(A1.T, dA2)\n",
    "    db2 = np.sum(dA2, axis=0)\n",
    "\n",
    "    dA1 = np.dot(dA2, W2.T) * sigmoid_derivative(A1)\n",
    "    dW1 = np.dot(X.T, dA1)\n",
    "    db1 = np.sum(dA1, axis=0)\n",
    "\n",
    "    # Update weights and biases\n",
    "    W3 -= learning_rate * dW3\n",
    "    b3 -= learning_rate * db3\n",
    "\n",
    "    W2 -= learning_rate * dW2\n",
    "    b2 -= learning_rate * db2\n",
    "\n",
    "    W1 -= learning_rate * dW1\n",
    "    b1 -= learning_rate * db1\n",
    "\n",
    "    # Print loss every 1000 epochs\n",
    "    if epoch % 1000 == 0:\n",
    "        print(f\"Epoch {epoch}, Loss: {loss:.4f}\")"
   ]
  },
  {
   "cell_type": "code",
   "execution_count": 7,
   "id": "9f1e34fd",
   "metadata": {},
   "outputs": [
    {
     "name": "stdout",
     "output_type": "stream",
     "text": [
      "\n",
      "Final Output:\n",
      "[[0.1961353 ]\n",
      " [0.75946922]\n",
      " [0.73818119]\n",
      " [0.29240433]]\n"
     ]
    }
   ],
   "source": [
    "\n",
    "# Test the trained model\n",
    "print(\"\\nFinal Output:\")\n",
    "print(A3)"
   ]
  },
  {
   "cell_type": "code",
   "execution_count": null,
   "id": "9b0248ae",
   "metadata": {},
   "outputs": [],
   "source": []
  }
 ],
 "metadata": {
  "kernelspec": {
   "display_name": "Python 3 (ipykernel)",
   "language": "python",
   "name": "python3"
  },
  "language_info": {
   "codemirror_mode": {
    "name": "ipython",
    "version": 3
   },
   "file_extension": ".py",
   "mimetype": "text/x-python",
   "name": "python",
   "nbconvert_exporter": "python",
   "pygments_lexer": "ipython3",
   "version": "3.12.3"
  }
 },
 "nbformat": 4,
 "nbformat_minor": 5
}
