{
 "cells": [
  {
   "cell_type": "markdown",
   "metadata": {},
   "source": [
    "# Q. \n",
    "number of student = 100\n",
    "number of subject = 10\n",
    "passing criteria = 33 in all subjects\n",
    "numbers lies in the range [5,95]\n",
    "\n",
    "input layer = 10\n",
    "neurons in hidden layer = 5\n",
    "number of hidden layer = 3\n",
    "output layer = 1\n"
   ]
  },
  {
   "cell_type": "code",
   "execution_count": 150,
   "metadata": {},
   "outputs": [],
   "source": [
    "import numpy as np\n",
    "import matplotlib.pyplot as plt\n",
    "plt.style.use(\"fivethirtyeight\")"
   ]
  },
  {
   "cell_type": "code",
   "execution_count": 151,
   "metadata": {},
   "outputs": [],
   "source": [
    "# x_train = np.zeros((100,10))\n",
    "y_train = np.zeros((100,1))\n",
    "\n",
    "n_x = 10\n",
    "n_h = 5\n",
    "n_y = 1"
   ]
  },
  {
   "cell_type": "code",
   "execution_count": 152,
   "metadata": {},
   "outputs": [],
   "source": [
    "# print(y_train.shape)\n",
    "# np.append(y_train,12)\n",
    "# y_train[1][0] = 5\n",
    "# print(y_train)"
   ]
  },
  {
   "cell_type": "code",
   "execution_count": 153,
   "metadata": {},
   "outputs": [],
   "source": [
    "np.random.seed(100)\n",
    "x1 = np.random.randint(40, 95, size=(55,10), dtype=int)\n",
    "x2 = np.random.randint(5, 95, size= (45,10), dtype=int)\n",
    "x_train = np.concatenate((x1,x2))\n",
    "# print(x_train.shape)\n",
    "np.random.shuffle(x_train)\n",
    "# print(x_train)"
   ]
  },
  {
   "cell_type": "code",
   "execution_count": 154,
   "metadata": {},
   "outputs": [
    {
     "name": "stdout",
     "output_type": "stream",
     "text": [
      "(100, 1)\n",
      "pass:  57 fail: 43\n"
     ]
    }
   ],
   "source": [
    "for i in range(100):\n",
    "    value = 1\n",
    "    for j in range(10):\n",
    "        if x_train[i][j] < 33:\n",
    "            value = 0\n",
    "            break\n",
    "    y_train[i][0] = value\n",
    "\n",
    "print(y_train.shape)\n",
    "p = 0\n",
    "f = 0\n",
    "for i in y_train:\n",
    "    if i == 0:\n",
    "        f += 1\n",
    "    else:\n",
    "        p += 1\n",
    "print(\"pass: \",p, \"fail:\",f)"
   ]
  },
  {
   "cell_type": "code",
   "execution_count": 155,
   "metadata": {},
   "outputs": [],
   "source": [
    "def intialWeights():\n",
    "    w1 = np.random.randn(n_x,n_h) * 0.001\n",
    "    w2 = np.random.randn(n_h,n_h) * 0.001\n",
    "    w3 = np.random.randn(n_h,n_h) * 0.001\n",
    "    w4 = np.random.randn(n_h,n_y) * 0.001\n",
    "\n",
    "    b1 = np.zeros((1,n_h))\n",
    "    b2 = np.zeros((1,n_h))\n",
    "    b3 = np.zeros((1,n_h))\n",
    "    b4 = np.zeros((1,n_y))\n",
    "\n",
    "    params = {\n",
    "        \"w1\": w1,\n",
    "        \"w2\": w2,\n",
    "        \"w3\": w3,\n",
    "        \"w4\": w4,\n",
    "        \"b1\": b1,\n",
    "        \"b2\": b2,\n",
    "        \"b3\": b3,\n",
    "        \"b4\": b4\n",
    "    }\n",
    "    return params\n"
   ]
  },
  {
   "cell_type": "code",
   "execution_count": 156,
   "metadata": {},
   "outputs": [],
   "source": [
    "def sig(x):\n",
    "    return 1/(1+np.exp(-x))\n",
    "def der_sig(x):\n",
    "    return x*(1-x)\n",
    "\n",
    "def tanh(x):\n",
    "    return np.tanh(x)\n",
    "def der_tanh(x):\n",
    "    return 1 - (np.tanh(x)**2)"
   ]
  },
  {
   "cell_type": "code",
   "execution_count": 157,
   "metadata": {},
   "outputs": [],
   "source": [
    "def forwardPropagation(x,params):\n",
    "    w1 = params[\"w1\"]\n",
    "    w2 = params[\"w2\"]\n",
    "    b1 = params[\"b1\"]\n",
    "    b2 = params[\"b2\"]\n",
    "    w3 = params[\"w3\"]\n",
    "    b3 = params[\"b3\"]\n",
    "    w4 = params[\"w4\"]\n",
    "    b4 = params[\"b4\"]\n",
    "\n",
    "    z1 = np.dot(x,w1) + b1\n",
    "    a1 = tanh(z1)\n",
    "\n",
    "    z2 = np.dot(a1,w2) + b2\n",
    "    a2 = tanh(z2)\n",
    "\n",
    "    z3 = np.dot(a2,w3) + b3\n",
    "    a3 = tanh(z3)\n",
    "\n",
    "    z4 = np.dot(a3,w4) + b4\n",
    "    a4 = tanh(z4)\n",
    "\n",
    "    forward = {\n",
    "        \"z1\": z1,\n",
    "        \"a1\": a1,\n",
    "        \"z2\": z2,\n",
    "        \"a2\": a2,\n",
    "        \"z3\": z3,\n",
    "        \"a3\": a3,\n",
    "        \"z4\": z4,\n",
    "        \"a4\": a4\n",
    "    }\n",
    "    return forward"
   ]
  },
  {
   "cell_type": "code",
   "execution_count": 158,
   "metadata": {},
   "outputs": [],
   "source": [
    "def costFunction(y,a4):\n",
    "    return np.mean((y-a4)**2)"
   ]
  },
  {
   "cell_type": "code",
   "execution_count": 159,
   "metadata": {},
   "outputs": [],
   "source": [
    "def backPropagation(forward, weights, x, y, learningRate):\n",
    "    error = y - forward[\"a4\"]\n",
    "    dError = error * der_tanh(forward[\"a4\"])\n",
    "\n",
    "    h3 = np.dot(dError,weights[\"w4\"].T)\n",
    "    dh3 = h3 * der_tanh(forward[\"a3\"])\n",
    "\n",
    "    h2 = np.dot(dh3,weights[\"w3\"].T)\n",
    "    dh2 = h2 * der_tanh(forward[\"a2\"])\n",
    "\n",
    "    h1 = np.dot(dh2,weights[\"w2\"])\n",
    "    dh1 = h1 * der_tanh(forward[\"a1\"])\n",
    "\n",
    "    weights[\"w4\"] += np.dot(forward[\"a3\"].T, dError) * learningRate\n",
    "    weights[\"b4\"] += np.sum(dError,axis=0,keepdims=True) * learningRate\n",
    "\n",
    "    weights[\"w3\"] += np.dot(forward[\"a2\"].T, dh3) * learningRate\n",
    "    weights[\"b3\"] += np.sum(dh3,axis=0,keepdims=True) * learningRate\n",
    "\n",
    "    weights[\"w2\"] += np.dot(forward[\"a1\"].T, dh2) * learningRate\n",
    "    weights[\"b2\"] += np.sum(dh2,axis=0,keepdims=True) * learningRate\n",
    "\n",
    "    weights[\"w1\"] += np.dot(x.T, dError) * learningRate\n",
    "    weights[\"b1\"] += np.sum(dh1, axis=0, keepdims= True) * learningRate\n",
    "    \n",
    "    return weights"
   ]
  },
  {
   "cell_type": "code",
   "execution_count": 160,
   "metadata": {},
   "outputs": [],
   "source": [
    "def model(x, y,learningRate,epochs):\n",
    "    weights = intialWeights()\n",
    "    cost_history = []\n",
    "    for i in range(epochs):\n",
    "        forward = forwardPropagation(x,weights)\n",
    "        loss = costFunction(y,forward[\"a4\"])\n",
    "        cost_history.append(loss)\n",
    "        weights = backPropagation(forward, weights, x, y, learningRate)\n",
    "        if i % 10 == 0:\n",
    "            print(f\"Epoch {i+1}, Loss: {loss}\")\n",
    "    \n",
    "    return weights, cost_history"
   ]
  },
  {
   "cell_type": "code",
   "execution_count": 161,
   "metadata": {},
   "outputs": [
    {
     "name": "stdout",
     "output_type": "stream",
     "text": [
      "Epoch 1, Loss: 0.5700000001639185\n",
      "Epoch 11, Loss: 0.24510000824943165\n",
      "Epoch 21, Loss: 0.24510000000000928\n",
      "Epoch 31, Loss: 0.24509999999999998\n",
      "Epoch 41, Loss: 0.24510000000000004\n",
      "Epoch 51, Loss: 0.24509999999999998\n",
      "Epoch 61, Loss: 0.24509999999999998\n",
      "Epoch 71, Loss: 0.24509999999999998\n",
      "Epoch 81, Loss: 0.24509999999999998\n",
      "Epoch 91, Loss: 0.24509999999999998\n"
     ]
    }
   ],
   "source": [
    "# trainging start\n",
    "learningRate = 0.01\n",
    "epochs = 100\n",
    "parameters, cost_history = model(x_train, y_train, learningRate,epochs)"
   ]
  },
  {
   "cell_type": "code",
   "execution_count": 162,
   "metadata": {},
   "outputs": [
    {
     "data": {
      "image/png": "[encoded data removed]",
      "text/plain": [
       "<Figure size 640x480 with 1 Axes>"
      ]
     },
     "metadata": {},
     "output_type": "display_data"
    }
   ],
   "source": [
    "t = np.arange(0,epochs)\n",
    "plt.plot(t,cost_history,marker = 'o', mec = '#4CAF50', mfc = '#4CAF50')\n",
    "plt.xlabel(\"epochs\")\n",
    "plt.ylabel(\"cost\")\n",
    "plt.title(\"Student Evaluation Model\")\n",
    "plt.show()"
   ]
  },
  {
   "cell_type": "code",
   "execution_count": 163,
   "metadata": {},
   "outputs": [],
   "source": [
    "def findAccuracy(y,a4):\n",
    "    count = 0\n",
    "    testing = np.zeros((100,1))\n",
    "    for i in range(a4.shape[1]):\n",
    "        if a4[i][0] > 0.5:\n",
    "            testing[i][0] = 1\n",
    "        else:\n",
    "            testing[i][0] = 0\n",
    "\n",
    "    print(testing)\n",
    "    for i,j in zip(y,testing):\n",
    "        if i==j:\n",
    "            count += 1\n",
    "    total = y.shape[1]\n",
    "    accuracy = count/total\n",
    "    return accuracy"
   ]
  },
  {
   "cell_type": "code",
   "execution_count": 164,
   "metadata": {},
   "outputs": [
    {
     "name": "stdout",
     "output_type": "stream",
     "text": [
      "[[1.]\n",
      " [0.]\n",
      " [0.]\n",
      " [0.]\n",
      " [0.]\n",
      " [0.]\n",
      " [0.]\n",
      " [0.]\n",
      " [0.]\n",
      " [0.]\n",
      " [0.]\n",
      " [0.]\n",
      " [0.]\n",
      " [0.]\n",
      " [0.]\n",
      " [0.]\n",
      " [0.]\n",
      " [0.]\n",
      " [0.]\n",
      " [0.]\n",
      " [0.]\n",
      " [0.]\n",
      " [0.]\n",
      " [0.]\n",
      " [0.]\n",
      " [0.]\n",
      " [0.]\n",
      " [0.]\n",
      " [0.]\n",
      " [0.]\n",
      " [0.]\n",
      " [0.]\n",
      " [0.]\n",
      " [0.]\n",
      " [0.]\n",
      " [0.]\n",
      " [0.]\n",
      " [0.]\n",
      " [0.]\n",
      " [0.]\n",
      " [0.]\n",
      " [0.]\n",
      " [0.]\n",
      " [0.]\n",
      " [0.]\n",
      " [0.]\n",
      " [0.]\n",
      " [0.]\n",
      " [0.]\n",
      " [0.]\n",
      " [0.]\n",
      " [0.]\n",
      " [0.]\n",
      " [0.]\n",
      " [0.]\n",
      " [0.]\n",
      " [0.]\n",
      " [0.]\n",
      " [0.]\n",
      " [0.]\n",
      " [0.]\n",
      " [0.]\n",
      " [0.]\n",
      " [0.]\n",
      " [0.]\n",
      " [0.]\n",
      " [0.]\n",
      " [0.]\n",
      " [0.]\n",
      " [0.]\n",
      " [0.]\n",
      " [0.]\n",
      " [0.]\n",
      " [0.]\n",
      " [0.]\n",
      " [0.]\n",
      " [0.]\n",
      " [0.]\n",
      " [0.]\n",
      " [0.]\n",
      " [0.]\n",
      " [0.]\n",
      " [0.]\n",
      " [0.]\n",
      " [0.]\n",
      " [0.]\n",
      " [0.]\n",
      " [0.]\n",
      " [0.]\n",
      " [0.]\n",
      " [0.]\n",
      " [0.]\n",
      " [0.]\n",
      " [0.]\n",
      " [0.]\n",
      " [0.]\n",
      " [0.]\n",
      " [0.]\n",
      " [0.]\n",
      " [0.]]\n",
      "Accuray : 42.0\n"
     ]
    }
   ],
   "source": [
    "forward_test = forwardPropagation(x_train,parameters)\n",
    "print(\"Accuray :\", findAccuracy(y_train,forward_test[\"a4\"]))\n",
    "# print(forward_test[\"a4\"].shape)"
   ]
  },
  {
   "cell_type": "code",
   "execution_count": 165,
   "metadata": {},
   "outputs": [
    {
     "name": "stdout",
     "output_type": "stream",
     "text": [
      "y_test:  1\n",
      "predicted value:  [[ True]] [[0.57]]\n"
     ]
    }
   ],
   "source": [
    "x_test = [50,60,40,35,56,36,50,80,60,40]\n",
    "y_test = 1\n",
    "forward_test = forwardPropagation(x_test,parameters)\n",
    "print(\"y_test: \",y_test)\n",
    "print(\"predicted value: \",(forward_test[\"a4\"]>0.5), forward_test[\"a4\"])"
   ]
  },
  {
   "cell_type": "code",
   "execution_count": null,
   "metadata": {},
   "outputs": [],
   "source": []
  },
  {
   "cell_type": "code",
   "execution_count": 166,
   "metadata": {},
   "outputs": [
    {
     "name": "stdout",
     "output_type": "stream",
     "text": [
      "{'w1': array([[368.5527483 , 368.55356813, 368.5540394 , 368.55425416,\n",
      "        368.55328356],\n",
      "       [261.99881206, 261.99868001, 261.99838541, 261.99748139,\n",
      "        261.99524022],\n",
      "       [312.59878428, 312.59874228, 312.59737493, 312.59976737,\n",
      "        312.59898921],\n",
      "       [480.20419124, 480.20640581, 480.20633104, 480.2067167 ,\n",
      "        480.20437432],\n",
      "       [296.9472601 , 296.94587899, 296.94384688, 296.94619335,\n",
      "        296.94640076],\n",
      "       [413.79615991, 413.79430634, 413.79542563, 413.79354035,\n",
      "        413.79488911],\n",
      "       [527.62095689, 527.62319845, 527.62085715, 527.62343899,\n",
      "        527.62199486],\n",
      "       [368.46214229, 368.46182276, 368.46370845, 368.46191776,\n",
      "        368.46312487],\n",
      "       [328.00265768, 328.00335611, 328.00320714, 328.00255904,\n",
      "        328.00218646],\n",
      "       [304.46661752, 304.46837644, 304.46807815, 304.46976592,\n",
      "        304.46806928]]), 'w2': array([[-0.0017652 ,  0.0014476 , -0.00114179,  0.0007464 , -0.00046902],\n",
      "       [ 0.00078738, -0.00018198, -0.00100287, -0.0009368 , -0.00094446],\n",
      "       [-0.00072743,  0.0020655 ,  0.00013617,  0.00020184,  0.00127071],\n",
      "       [-0.00100296, -0.00073228, -0.00064734, -0.00078536,  0.00173448],\n",
      "       [-0.00044634, -0.00123994, -0.00029202, -0.0006602 , -0.00109171]]), 'w3': array([[ 5.64903068e-04, -1.94450088e-03,  2.64000963e-04,\n",
      "         1.53871834e-03,  2.39703805e-03],\n",
      "       [ 1.55622031e-03, -2.02672664e-04, -1.08888310e-04,\n",
      "         1.13519247e-03,  1.00978449e-03],\n",
      "       [-9.13242437e-04, -2.22910689e-03, -4.62461333e-04,\n",
      "         1.62807095e-03, -7.60349757e-05],\n",
      "       [-1.39435934e-03, -7.79850445e-04,  6.98892324e-04,\n",
      "         4.72780480e-04, -2.72583307e-04],\n",
      "       [ 1.84568257e-04, -3.39174969e-04, -1.42650934e-04,\n",
      "        -1.44887369e-03, -1.32254623e-03]]), 'w4': array([[-0.00074311],\n",
      "       [-0.00063337],\n",
      "       [-0.00112178],\n",
      "       [ 0.0005695 ],\n",
      "       [ 0.00056353]]), 'b1': array([[-4.18373882e-09,  6.89769794e-09, -1.79344165e-09,\n",
      "         1.47604530e-09,  3.14064629e-09]]), 'b2': array([[ 1.70316279e-06,  1.92577158e-07,  2.16889057e-06,\n",
      "         5.35767546e-07, -8.28043512e-07]]), 'b3': array([[-0.00046108, -0.00039318, -0.00069548,  0.00035375,  0.0003497 ]]), 'b4': array([[0.64752109]])}\n"
     ]
    }
   ],
   "source": [
    "print(parameters)"
   ]
  }
 ],
 "metadata": {
  "kernelspec": {
   "display_name": "Python 3",
   "language": "python",
   "name": "python3"
  },
  "language_info": {
   "codemirror_mode": {
    "name": "ipython",
    "version": 3
   },
   "file_extension": ".py",
   "mimetype": "text/x-python",
   "name": "python",
   "nbconvert_exporter": "python",
   "pygments_lexer": "ipython3",
   "version": "3.12.3"
  }
 },
 "nbformat": 4,
 "nbformat_minor": 2
}
